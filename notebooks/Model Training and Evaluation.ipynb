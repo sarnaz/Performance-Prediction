{
 "cells": [
  {
   "cell_type": "code",
   "execution_count": 2,
   "id": "99657c53",
   "metadata": {},
   "outputs": [],
   "source": [
    "import sqlite3\n",
    "import pandas as pd\n",
    "import numpy as np\n",
    "import time\n",
    "import sys\n",
    "from sklearn.linear_model import LinearRegression\n",
    "from sklearn.svm import SVR\n",
    "from sklearn.ensemble import RandomForestRegressor\n",
    "from sklearn.metrics import mean_squared_error, r2_score, mean_absolute_error, explained_variance_score\n",
    "from joblib import dump, load"
   ]
  },
  {
   "cell_type": "code",
   "execution_count": 3,
   "id": "c0192218",
   "metadata": {},
   "outputs": [],
   "source": [
    "X_train = pd.read_csv('X_train.csv')\n",
    "X_test = pd.read_csv('X_test.csv')\n",
    "y_train = pd.read_csv('y_train.csv')\n",
    "y_test = pd.read_csv('y_test.csv')\n",
    "\n",
    "y_train = y_train[\"overall_rating\"].ravel()\n",
    "y_test = y_test[\"overall_rating\"].ravel()"
   ]
  },
  {
   "cell_type": "code",
   "execution_count": 4,
   "id": "1072912f",
   "metadata": {},
   "outputs": [
    {
     "name": "stdout",
     "output_type": "stream",
     "text": [
      "<class 'pandas.core.frame.DataFrame'>\n",
      "RangeIndex: 146513 entries, 0 to 146512\n",
      "Data columns (total 40 columns):\n",
      " #   Column                      Non-Null Count   Dtype  \n",
      "---  ------                      --------------   -----  \n",
      " 0   preferred_foot_left         146513 non-null  float64\n",
      " 1   preferred_foot_right        146513 non-null  float64\n",
      " 2   defensive_work_rate_high    146513 non-null  float64\n",
      " 3   defensive_work_rate_low     146513 non-null  float64\n",
      " 4   defensive_work_rate_medium  146513 non-null  float64\n",
      " 5   attacking_work_rate_high    146513 non-null  float64\n",
      " 6   attacking_work_rate_low     146513 non-null  float64\n",
      " 7   attacking_work_rate_medium  146513 non-null  float64\n",
      " 8   crossing                    146513 non-null  float64\n",
      " 9   finishing                   146513 non-null  float64\n",
      " 10  heading_accuracy            146513 non-null  float64\n",
      " 11  short_passing               146513 non-null  float64\n",
      " 12  volleys                     146513 non-null  float64\n",
      " 13  dribbling                   146513 non-null  float64\n",
      " 14  free_kick_accuracy          146513 non-null  float64\n",
      " 15  long_passing                146513 non-null  float64\n",
      " 16  ball_control                146513 non-null  float64\n",
      " 17  acceleration                146513 non-null  float64\n",
      " 18  sprint_speed                146513 non-null  float64\n",
      " 19  agility                     146513 non-null  float64\n",
      " 20  reactions                   146513 non-null  float64\n",
      " 21  balance                     146513 non-null  float64\n",
      " 22  shot_power                  146513 non-null  float64\n",
      " 23  jumping                     146513 non-null  float64\n",
      " 24  stamina                     146513 non-null  float64\n",
      " 25  strength                    146513 non-null  float64\n",
      " 26  long_shots                  146513 non-null  float64\n",
      " 27  aggression                  146513 non-null  float64\n",
      " 28  interceptions               146513 non-null  float64\n",
      " 29  positioning                 146513 non-null  float64\n",
      " 30  vision                      146513 non-null  float64\n",
      " 31  penalties                   146513 non-null  float64\n",
      " 32  marking                     146513 non-null  float64\n",
      " 33  standing_tackle             146513 non-null  float64\n",
      " 34  sliding_tackle              146513 non-null  float64\n",
      " 35  gk_diving                   146513 non-null  float64\n",
      " 36  gk_handling                 146513 non-null  float64\n",
      " 37  gk_kicking                  146513 non-null  float64\n",
      " 38  gk_positioning              146513 non-null  float64\n",
      " 39  gk_reflexes                 146513 non-null  float64\n",
      "dtypes: float64(40)\n",
      "memory usage: 44.7 MB\n",
      "None\n",
      "<class 'pandas.core.frame.DataFrame'>\n",
      "RangeIndex: 36629 entries, 0 to 36628\n",
      "Data columns (total 40 columns):\n",
      " #   Column                      Non-Null Count  Dtype  \n",
      "---  ------                      --------------  -----  \n",
      " 0   preferred_foot_left         36629 non-null  float64\n",
      " 1   preferred_foot_right        36629 non-null  float64\n",
      " 2   defensive_work_rate_high    36629 non-null  float64\n",
      " 3   defensive_work_rate_low     36629 non-null  float64\n",
      " 4   defensive_work_rate_medium  36629 non-null  float64\n",
      " 5   attacking_work_rate_high    36629 non-null  float64\n",
      " 6   attacking_work_rate_low     36629 non-null  float64\n",
      " 7   attacking_work_rate_medium  36629 non-null  float64\n",
      " 8   crossing                    36629 non-null  float64\n",
      " 9   finishing                   36629 non-null  float64\n",
      " 10  heading_accuracy            36629 non-null  float64\n",
      " 11  short_passing               36629 non-null  float64\n",
      " 12  volleys                     36629 non-null  float64\n",
      " 13  dribbling                   36629 non-null  float64\n",
      " 14  free_kick_accuracy          36629 non-null  float64\n",
      " 15  long_passing                36629 non-null  float64\n",
      " 16  ball_control                36629 non-null  float64\n",
      " 17  acceleration                36629 non-null  float64\n",
      " 18  sprint_speed                36629 non-null  float64\n",
      " 19  agility                     36629 non-null  float64\n",
      " 20  reactions                   36629 non-null  float64\n",
      " 21  balance                     36629 non-null  float64\n",
      " 22  shot_power                  36629 non-null  float64\n",
      " 23  jumping                     36629 non-null  float64\n",
      " 24  stamina                     36629 non-null  float64\n",
      " 25  strength                    36629 non-null  float64\n",
      " 26  long_shots                  36629 non-null  float64\n",
      " 27  aggression                  36629 non-null  float64\n",
      " 28  interceptions               36629 non-null  float64\n",
      " 29  positioning                 36629 non-null  float64\n",
      " 30  vision                      36629 non-null  float64\n",
      " 31  penalties                   36629 non-null  float64\n",
      " 32  marking                     36629 non-null  float64\n",
      " 33  standing_tackle             36629 non-null  float64\n",
      " 34  sliding_tackle              36629 non-null  float64\n",
      " 35  gk_diving                   36629 non-null  float64\n",
      " 36  gk_handling                 36629 non-null  float64\n",
      " 37  gk_kicking                  36629 non-null  float64\n",
      " 38  gk_positioning              36629 non-null  float64\n",
      " 39  gk_reflexes                 36629 non-null  float64\n",
      "dtypes: float64(40)\n",
      "memory usage: 11.2 MB\n",
      "None\n"
     ]
    },
    {
     "ename": "AttributeError",
     "evalue": "'numpy.ndarray' object has no attribute 'info'",
     "output_type": "error",
     "traceback": [
      "\u001b[1;31m---------------------------------------------------------------------------\u001b[0m",
      "\u001b[1;31mAttributeError\u001b[0m                            Traceback (most recent call last)",
      "Cell \u001b[1;32mIn[4], line 3\u001b[0m\n\u001b[0;32m      1\u001b[0m \u001b[38;5;28mprint\u001b[39m(X_train\u001b[38;5;241m.\u001b[39minfo())\n\u001b[0;32m      2\u001b[0m \u001b[38;5;28mprint\u001b[39m(X_test\u001b[38;5;241m.\u001b[39minfo())\n\u001b[1;32m----> 3\u001b[0m \u001b[38;5;28mprint\u001b[39m(y_train\u001b[38;5;241m.\u001b[39minfo())\n\u001b[0;32m      4\u001b[0m \u001b[38;5;28mprint\u001b[39m(y_test\u001b[38;5;241m.\u001b[39minfo())\n",
      "\u001b[1;31mAttributeError\u001b[0m: 'numpy.ndarray' object has no attribute 'info'"
     ]
    }
   ],
   "source": [
    "print(X_train.info())\n",
    "print(X_test.info())\n",
    "print(y_train.info())\n",
    "print(y_test.info())"
   ]
  },
  {
   "cell_type": "markdown",
   "id": "4ba4e0cd",
   "metadata": {},
   "source": [
    "# Evaluation Metrics \n",
    "## 1. Mean Squared Error (MSE)\n",
    "This is the average squared difference between the estimated values (predicted values) and the actual values (true values). IT is high sensitivity to outliers. In football, outliers can often represent superstar players or unusual talents, MSE helps to highlight if these players. \n",
    "## 2. R-squared (Coefficient of Determination)\n",
    "The proportion of variance in the prediction. Essentially, how well observed outcomes are replicated by the model. A high R-squared means our model accounts well for the factors (like 'crossing', 'finishing', 'dribbling', etc.) that determine a player’s overall performance.\n",
    "## 3. Mean Absolute Error (MAE)\n",
    "A linear score that reflects the typical prediction error. This is straightforward for football clubs to understand and use eg. MAE of 2.0 means that typically, the model's player ratings are within two points of their true rating.\n",
    "## 4. Explained Variance Score\n",
    "Metric used to captures the variance or fluctuations in player ratings, regardless of whether there is a systematic bias (like consistently predicting higher or lower) unlike R-squared which focuses on predictive power directly without any offsets. "
   ]
  },
  {
   "cell_type": "markdown",
   "id": "3c7a5638",
   "metadata": {},
   "source": [
    "# Linear Regression"
   ]
  },
  {
   "cell_type": "code",
   "execution_count": 25,
   "id": "9022669c",
   "metadata": {},
   "outputs": [
    {
     "name": "stdout",
     "output_type": "stream",
     "text": [
      "Mean Squared Error: 10.5375\n",
      "R-squared: 0.7886\n",
      "Mean Absolute Error: 2.5010\n",
      "Explained Variance Score: 0.7886\n",
      "Total time taken: 0.3300049304962158 seconds\n"
     ]
    }
   ],
   "source": [
    "linear_reg = LinearRegression()\n",
    "\n",
    "start_time = time.time()\n",
    "linear_reg.fit(X_train, y_train)\n",
    "\n",
    "# Predict with Linear Regression\n",
    "lr_pred = linear_reg.predict(X_test)\n",
    "\n",
    "# Evaluate Linear Regression\n",
    "lr_mse = mean_squared_error(y_test, lr_pred)\n",
    "lr_r2 = r2_score(y_test, lr_pred)\n",
    "lr_mae = mean_absolute_error(y_test, lr_pred)\n",
    "lr_explained_variance = explained_variance_score(y_test, lr_pred)\n",
    "lr_time = time.time() - start_time\n",
    "\n",
    "print(f\"Mean Squared Error: {lr_mse:.4f}\")\n",
    "print(f\"R-squared: {lr_r2:.4f}\")\n",
    "print(f\"Mean Absolute Error: {lr_mae:.4f}\")\n",
    "print(f\"Explained Variance Score: {lr_explained_variance:.4f}\")\n",
    "print(f\"Total time taken: {lr_time} seconds\")\n"
   ]
  },
  {
   "cell_type": "code",
   "execution_count": 12,
   "id": "1970f2d2",
   "metadata": {},
   "outputs": [
    {
     "name": "stdout",
     "output_type": "stream",
     "text": [
      "preferred_foot_left           1.000000\n",
      "preferred_foot_right          0.000000\n",
      "defensive_work_rate_high      0.000000\n",
      "defensive_work_rate_low       0.000000\n",
      "defensive_work_rate_medium    1.000000\n",
      "attacking_work_rate_high      0.000000\n",
      "attacking_work_rate_low       0.000000\n",
      "attacking_work_rate_medium    1.000000\n",
      "crossing                      2.140873\n",
      "finishing                     0.634442\n",
      "heading_accuracy              0.711631\n",
      "short_passing                 1.096963\n",
      "volleys                       1.791112\n",
      "dribbling                     1.286295\n",
      "free_kick_accuracy            2.053593\n",
      "long_passing                  0.967744\n",
      "ball_control                  0.829863\n",
      "acceleration                  0.950502\n",
      "sprint_speed                  0.791488\n",
      "agility                       0.933356\n",
      "reactions                     0.862475\n",
      "balance                       0.908777\n",
      "shot_power                    0.693617\n",
      "jumping                      -0.819079\n",
      "stamina                       0.528776\n",
      "strength                     -1.360520\n",
      "long_shots                    1.451549\n",
      "aggression                    0.065382\n",
      "interceptions                 1.079210\n",
      "positioning                   1.258304\n",
      "vision                        1.601358\n",
      "penalties                     1.093239\n",
      "marking                       0.481814\n",
      "standing_tackle              -0.109444\n",
      "sliding_tackle               -0.558526\n",
      "gk_diving                    -0.278937\n",
      "gk_handling                   0.311104\n",
      "gk_kicking                    2.330761\n",
      "gk_positioning                0.302367\n",
      "gk_reflexes                   0.265062\n",
      "Name: 0, dtype: float64\n"
     ]
    }
   ],
   "source": [
    "print(X_test.iloc[0])"
   ]
  },
  {
   "cell_type": "markdown",
   "id": "3361b6d3",
   "metadata": {},
   "source": [
    "# Random Forest"
   ]
  },
  {
   "cell_type": "code",
   "execution_count": 5,
   "id": "3c6bc71c",
   "metadata": {},
   "outputs": [
    {
     "name": "stdout",
     "output_type": "stream",
     "text": [
      "Mean Squared Error: 0.8493\n",
      "R-squared: 0.9830\n",
      "Mean Absolute Error: 0.5006\n",
      "Explained Variance Score: 0.9830\n",
      "Total time taken : 350.6340398788452 seconds\n"
     ]
    }
   ],
   "source": [
    "random_forest = RandomForestRegressor()\n",
    "\n",
    "start_time = time.time()\n",
    "random_forest.fit(X_train, y_train)\n",
    "\n",
    "# Predict with Random Forest\n",
    "rf_pred = random_forest.predict(X_test)\n",
    "\n",
    "# Evaluate Random Forest\n",
    "rf_mse = mean_squared_error(y_test, rf_pred)\n",
    "rf_r2 = r2_score(y_test, rf_pred)\n",
    "rf_mae = mean_absolute_error(y_test, rf_pred)\n",
    "rf_explained_variance = explained_variance_score(y_test, rf_pred)\n",
    "rf_time = time.time() - start_time\n",
    "\n",
    "print(f\"Mean Squared Error: {rf_mse:.4f}\")\n",
    "print(f\"R-squared: {rf_r2:.4f}\")\n",
    "print(f\"Mean Absolute Error: {rf_mae:.4f}\")\n",
    "print(f\"Explained Variance Score: {rf_explained_variance:.4f}\")\n",
    "print(f\"Total time taken : {rf_time} seconds\")\n"
   ]
  },
  {
   "cell_type": "markdown",
   "id": "5def3f6c",
   "metadata": {},
   "source": [
    "# Support Vector Machine"
   ]
  },
  {
   "cell_type": "code",
   "execution_count": 23,
   "id": "41dd95be",
   "metadata": {},
   "outputs": [
    {
     "name": "stdout",
     "output_type": "stream",
     "text": [
      "Mean Squared Error: 1.3952\n",
      "R-squared: 0.9720\n",
      "Mean Absolute Error: 0.7564\n",
      "Explained Variance Score: 0.9721\n",
      "Total time taken : 6639.946455478668 seconds\n"
     ]
    }
   ],
   "source": [
    "svm_reg = SVR()\n",
    "\n",
    "start_time = time.time()\n",
    "svm_reg.fit(X_train, y_train)\n",
    "\n",
    "# Predict with SVM\n",
    "svm_pred = svm_reg.predict(X_test)\n",
    "\n",
    "# Evaluate SVM\n",
    "svm_mse = mean_squared_error(y_test, svm_pred)\n",
    "svm_r2 = r2_score(y_test, svm_pred)\n",
    "svm_mae = mean_absolute_error(y_test, svm_pred)\n",
    "svm_explained_variance = explained_variance_score(y_test, svm_pred)\n",
    "svm_time = time.time() - start_time\n",
    "\n",
    "print(f\"Mean Squared Error: {svm_mse:.4f}\")\n",
    "print(f\"R-squared: {svm_r2:.4f}\")\n",
    "print(f\"Mean Absolute Error: {svm_mae:.4f}\")\n",
    "print(f\"Explained Variance Score: {svm_explained_variance:.4f}\")\n",
    "print(f\"Total time taken : {svm_time} seconds\")\n"
   ]
  },
  {
   "cell_type": "code",
   "execution_count": 7,
   "id": "fb395d32",
   "metadata": {},
   "outputs": [
    {
     "data": {
      "text/plain": [
       "['predictionmodel.joblib']"
      ]
     },
     "execution_count": 7,
     "metadata": {},
     "output_type": "execute_result"
    }
   ],
   "source": [
    "dump(random_forest, 'predictionmodel.joblib')"
   ]
  }
 ],
 "metadata": {
  "kernelspec": {
   "display_name": "Python 3 (ipykernel)",
   "language": "python",
   "name": "python3"
  },
  "language_info": {
   "codemirror_mode": {
    "name": "ipython",
    "version": 3
   },
   "file_extension": ".py",
   "mimetype": "text/x-python",
   "name": "python",
   "nbconvert_exporter": "python",
   "pygments_lexer": "ipython3",
   "version": "3.11.5"
  }
 },
 "nbformat": 4,
 "nbformat_minor": 5
}
